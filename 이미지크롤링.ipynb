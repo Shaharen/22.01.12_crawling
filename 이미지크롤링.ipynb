{
 "cells": [
  {
   "cell_type": "code",
   "execution_count": 2,
   "id": "f868209f",
   "metadata": {},
   "outputs": [],
   "source": [
    "from selenium import webdriver as wb\n",
    "from selenium.webdriver.common.keys import Keys\n",
    "import time\n",
    "from bs4 import BeautifulSoup as bs\n",
    "import os # 파일 시스템을 위한 라이브러리 ex) 파일, 폴더를 생성할때 사용\n",
    "from urllib.request import urlretrieve # 이미지의 경로를 파일로 저장시켜주는 라이브러리"
   ]
  },
  {
   "cell_type": "code",
   "execution_count": 3,
   "id": "dd771aeb",
   "metadata": {},
   "outputs": [],
   "source": [
    "# 폴더를 생성\n",
    "# 바탕화면에 이미지라는 폴더가 없다면 폴더를 생성해줘!\n",
    "if not os.path.isdir(\"C:/Users/smhrd/Desktop/이미지\") :\n",
    "    os.mkdir(\"C:/Users/smhrd/Desktop/이미지\")"
   ]
  },
  {
   "cell_type": "code",
   "execution_count": 5,
   "id": "f8f04f9e",
   "metadata": {},
   "outputs": [],
   "source": [
    "driver = wb.Chrome()\n",
    "driver.get(\"https://search.naver.com/search.naver?where=image&sm=tab_jum&query=%EA%B3%B5%ED%97%88%EC%9D%98%EC%9C%A0%EC%82%B0+%EC%8B%9C%EB%84%A4%EB%A7%88%ED%8B%B1\")"
   ]
  },
  {
   "cell_type": "code",
   "execution_count": 6,
   "id": "f5e7e5ae",
   "metadata": {},
   "outputs": [],
   "source": [
    "# 이미지와 a 태그는 홀태그이므로\n",
    "# 속성에 접근하여 가져온다\n",
    "soup = bs(driver.page_source, \"lxml\")"
   ]
  },
  {
   "cell_type": "code",
   "execution_count": 8,
   "id": "3fad8335",
   "metadata": {},
   "outputs": [],
   "source": [
    "img = soup.select(\"img._image._listImage\")"
   ]
  },
  {
   "cell_type": "code",
   "execution_count": 10,
   "id": "b107ded8",
   "metadata": {},
   "outputs": [
    {
     "data": {
      "text/plain": [
       "'https://search.pstatic.net/common/?src=http%3A%2F%2Fblogfiles.naver.net%2FMjAyMTA5MzBfNTAg%2FMDAxNjMyOTk0NDcxNTMz.qCXIanyDJjTaQZKspNRjZv4bSmW1UcvVgiDtTlXcv-Ag.TYwyeXLgdWrNY6guBFZkR8_AatUDCv36o_1ujFbIVLkg.PNG.lifree2043%2FS6-C2.png&type=l340_165'"
      ]
     },
     "execution_count": 10,
     "metadata": {},
     "output_type": "execute_result"
    }
   ],
   "source": [
    "# [] 안에 속성을 넣어서 가져옴\n",
    "img[0][\"src\"]"
   ]
  },
  {
   "cell_type": "code",
   "execution_count": 11,
   "id": "a5a0beee",
   "metadata": {},
   "outputs": [],
   "source": [
    "# 내가 필요한 각 이미지의 src만 담음\n",
    "imgSrc = []\n",
    "for i in img :\n",
    "    imgSrc.append(i[\"src\"])"
   ]
  },
  {
   "cell_type": "code",
   "execution_count": 12,
   "id": "c67514fe",
   "metadata": {},
   "outputs": [
    {
     "data": {
      "text/plain": [
       "['https://search.pstatic.net/common/?src=http%3A%2F%2Fblogfiles.naver.net%2FMjAyMTA5MzBfNTAg%2FMDAxNjMyOTk0NDcxNTMz.qCXIanyDJjTaQZKspNRjZv4bSmW1UcvVgiDtTlXcv-Ag.TYwyeXLgdWrNY6guBFZkR8_AatUDCv36o_1ujFbIVLkg.PNG.lifree2043%2FS6-C2.png&type=l340_165',\n",
       " 'https://search.pstatic.net/common/?src=http%3A%2F%2Fblogfiles.naver.net%2FMjAyMTA5MzBfOSAg%2FMDAxNjMyOTk0NDYzMzE4.k7q85ELrKMOyLGIR0fE_DzJtjimIzBvdIe03n6lpjBQg.v0kp2TcdrKqOq6wxseOt-pay-5S2gndequUntL0_Z-wg.PNG.lifree2043%2FS5-C4.png&type=l340_165',\n",
       " 'https://search.pstatic.net/common/?src=http%3A%2F%2Fblogfiles.naver.net%2FMjAyMTA5MzBfMjMx%2FMDAxNjMyOTk0NDY5NDAw.e1DpIy7cUhQq5bqVQZQ6YeeX1ugSXL1MYx-pGn0qkNMg.eEDovqNcLDzwiA0aVuDD1VXaFJeUAPqetpRCR2AKIWYg.PNG.lifree2043%2FS5-C11.png&type=l340_165',\n",
       " 'https://search.pstatic.net/common/?src=http%3A%2F%2Fblogfiles.naver.net%2F20150915_293%2Fpowererum_1442301316665zu9L8_JPEG%2Fbandicam_2015-09-15_16-03-15-543.jpg&type=l340_165',\n",
       " 'data:image/gif;base64,R0lGODlhAQABAIAAAAAAAP///yH5BAEAAAAALAAAAAABAAEAAAIBRAA7',\n",
       " 'https://search.pstatic.net/common/?src=http%3A%2F%2Fblogfiles.naver.net%2FMjAyMTA5MzBfMTA3%2FMDAxNjMyOTk0NjYzNjg4.Hq8Z9yAJTupOt9_VUyI-7DZVm3Ywb1QLKWrgzmQg-mMg.Ttx3qzIyI7qHn2FH6nfJmhU6AIfMI-9pvLickZ27rKsg.PNG.lifree2043%2FS12-C8.png&type=l340_165',\n",
       " 'https://search.pstatic.net/common/?src=http%3A%2F%2Fblogfiles.naver.net%2F20150914_215%2Fwjdgus1662_1442204238554YjeCY_JPEG%2F%25BD%25BA%25C5%25B8%25C5%25A9%25B7%25A1%25C7%25C1%25C6%25AE_II-_%25B0%25F8%25C7%25E3%25C0%25C7_%25C0%25AF%25BB%25EA_%25BF%25C0%25C7%25C1%25B4%25D7_%25BD%25C3%25B3%25D7%25B8%25B6%25C6%25BD_%25BF%25B5%25BB%25F3.mp4_20150914_131327.734.jpg&type=l340_165',\n",
       " 'https://search.pstatic.net/common/?src=http%3A%2F%2Fblogfiles.naver.net%2F20151009_55%2Fnrj2375_144434392086900zHh_PNG%2F%25B0%25F8%25C7%25E3%25C0%25C7_%25C0%25AF%25BB%25EA_%25BF%25C0%25C7%25C1%25B4%25D7_%25BD%25C3%25B3%25D7%25B8%25B6%25C6%25BD_%25BF%25B5%25BB%25F3_000233_20151009-021322.png&type=l340_165',\n",
       " 'https://search.pstatic.net/common/?src=http%3A%2F%2Fblogfiles.naver.net%2FMjAyMTA5MzBfOTMg%2FMDAxNjMyOTk0NDU4MjU2.PWhg8ZqY-WlW7V9tP-oA3eCHRnPMZF1LZZKfQW6oIZUg.JD93kn2FzR5WkREUi6b8Hweh7IQzTkMEph5rH9V_ik4g.PNG.lifree2043%2FS4-C4.png&type=l340_165',\n",
       " 'data:image/gif;base64,R0lGODlhAQABAIAAAAAAAP///yH5BAEAAAAALAAAAAABAAEAAAIBRAA7',\n",
       " 'https://search.pstatic.net/common/?src=http%3A%2F%2Fblogfiles.naver.net%2F20150916_130%2Fdlehdguq99_1442383411403KxRgK_JPEG%2F04.jpg&type=l340_165',\n",
       " 'https://search.pstatic.net/common/?src=http%3A%2F%2Fblogfiles.naver.net%2FMjAyMTA5MzBfMjYy%2FMDAxNjMyOTk0NDY3MjYw.1CBr-5p3gFxNgkItEy-4Kg1jYDRSc2JmDLHQ1Gs9fBYg.DZn3cLDlqxLZAYZHjUX7EgfbsHWAumk9MzldxFpC6Wcg.PNG.lifree2043%2FS5-C8.png&type=l340_165',\n",
       " 'https://search.pstatic.net/common/?src=http%3A%2F%2Fblogfiles.naver.net%2F20150914_86%2Fpicatrano_14422158759088U7jA_PNG%2FK-061.png&type=a340',\n",
       " 'https://search.pstatic.net/common/?src=http%3A%2F%2Fblogfiles.naver.net%2F20150914_193%2Ft326598_1442233918733NGfeu_JPEG%2FIEXPLORE_2015-09-14_20-38-06-260.jpg&type=a340',\n",
       " 'data:image/gif;base64,R0lGODlhAQABAIAAAAAAAP///yH5BAEAAAAALAAAAAABAAEAAAIBRAA7',\n",
       " 'https://search.pstatic.net/common/?src=http%3A%2F%2Fblogfiles.naver.net%2F20150926_262%2Fchqnfdkf_1443231940662vMX01_JPEG%2F%25BD%25BA%25C5%25B8%25C5%25A9%25B7%25A1%25C7%25C1%25C6%25AE_II-_%25B0%25F8%25C7%25E3%25C0%25C7_%25C0%25AF%25BB%25EA_%25BF%25C0%25C7%25C1%25B4%25D7_%25BD%25C3%25B3%25D7%25B8%25B6%25C6%25BD_%25BF%25B5%25BB%25F3.mp4_000151045.jpg&type=a340',\n",
       " 'https://search.pstatic.net/common/?src=http%3A%2F%2Fblogfiles.naver.net%2F20150926_252%2Fchqnfdkf_1443231938065rXiot_JPEG%2F%25BD%25BA%25C5%25B8%25C5%25A9%25B7%25A1%25C7%25C1%25C6%25AE_II-_%25B0%25F8%25C7%25E3%25C0%25C7_%25C0%25AF%25BB%25EA_%25BF%25C0%25C7%25C1%25B4%25D7_%25BD%25C3%25B3%25D7%25B8%25B6%25C6%25BD_%25BF%25B5%25BB%25F3.mp4_000070687.jpg&type=a340',\n",
       " 'https://search.pstatic.net/common/?src=http%3A%2F%2Fblogfiles.naver.net%2F20150914_8%2Funi_quai_1442188555757qyYq8_JPEG%2F%25BD%25BA%25C5%25B8%25C5%25A9%25B7%25A1%25C7%25C1%25C6%25AE_II-_%25B0%25F8%25C7%25E3%25C0%25C7_%25C0%25AF%25BB%25EA_%25BF%25C0%25C7%25C1%25B4%25D7_%25BD%25C3%25B3%25D7%25B8%25B6%25C6%25BD_%25BF%25B5%25BB%25F3.mp4_20150914_084645.376.jpg&type=l340_165',\n",
       " 'https://search.pstatic.net/common/?src=http%3A%2F%2Fblogfiles.naver.net%2FMjAyMTAxMjhfMzcg%2FMDAxNjExODIwNzYyMzk0.AWpDHdfa9Pku2fAf4S9HfrISZDXIQu6W_1OGKUq58CEg.kwL_LsAuqXDYnc8pF4Lg6l_KD6BufaqjQn1_CC2B2ZAg.PNG.stopstone2%2Fimage.png&type=l340_165',\n",
       " 'data:image/gif;base64,R0lGODlhAQABAIAAAAAAAP///yH5BAEAAAAALAAAAAABAAEAAAIBRAA7',\n",
       " 'https://search.pstatic.net/common/?src=http%3A%2F%2Fblogfiles.naver.net%2F20150914_47%2Fyuthmain_14421928011299pfCb_PNG%2F%25BD%25BA%25C5%25B8%25C5%25A9%25B7%25A1%25C7%25C1%25C6%25AE_II__%25B0%25F8%25C7%25E3%25C0%25C7_%25C0%25AF%25BB%25EA_%25BF%25C0%25C7%25C1%25B4%25D7_%25BD%25C3%25B3%25D7%25B8%25B6%25C6%25BD_%25BF%25B5%25BB%25F3_-_YouTube_%25281080p%2529_0000103632ms.png&type=l340_165',\n",
       " 'https://search.pstatic.net/common/?src=http%3A%2F%2Fblogfiles.naver.net%2F20151210_17%2Fothiai4239_14497475917279dShX_JPEG%2F06.JPG&type=l340_165',\n",
       " 'data:image/gif;base64,R0lGODlhAQABAIAAAAAAAP///yH5BAEAAAAALAAAAAABAAEAAAIBRAA7',\n",
       " 'https://search.pstatic.net/common/?src=http%3A%2F%2Fblogfiles.naver.net%2FMjAyMTAxMzFfMTQx%2FMDAxNjEyMDkyODI5ODg2.fRa1ClzI-iRYX3tXSZ0UDQZtkm_HCJY_eC2L8HX_UCkg.J0KgFldDmC8hQvTpWyjZLROouinMv9HmsoZ1nGBaEsQg.PNG.anjs7788%2Fimage.png&type=l340_165',\n",
       " 'https://search.pstatic.net/common/?src=http%3A%2F%2Fblogfiles.naver.net%2F20150917_240%2Fkmsung6543_1442474327130q6wP2_JPEG%2F%25BD%25BA%25C5%25B8%25C5%25A9%25B7%25A1%25C7%25C1%25C6%25AE_II-_%25B0%25F8%25C7%25E3%25C0%25C7_%25C0%25AF%25BB%25EA_%25BF%25C0%25C7%25C1%25B4%25D7_%25BD%25C3%25B3%25D7%25B8%25B6%25C6%25BD_%25BF%25B5%25BB%25F3_89125.jpg&type=l340_165',\n",
       " 'data:image/gif;base64,R0lGODlhAQABAIAAAAAAAP///yH5BAEAAAAALAAAAAABAAEAAAIBRAA7',\n",
       " 'data:image/gif;base64,R0lGODlhAQABAIAAAAAAAP///yH5BAEAAAAALAAAAAABAAEAAAIBRAA7',\n",
       " 'data:image/gif;base64,R0lGODlhAQABAIAAAAAAAP///yH5BAEAAAAALAAAAAABAAEAAAIBRAA7',\n",
       " 'data:image/gif;base64,R0lGODlhAQABAIAAAAAAAP///yH5BAEAAAAALAAAAAABAAEAAAIBRAA7',\n",
       " 'data:image/gif;base64,R0lGODlhAQABAIAAAAAAAP///yH5BAEAAAAALAAAAAABAAEAAAIBRAA7',\n",
       " 'data:image/gif;base64,R0lGODlhAQABAIAAAAAAAP///yH5BAEAAAAALAAAAAABAAEAAAIBRAA7',\n",
       " 'data:image/gif;base64,R0lGODlhAQABAIAAAAAAAP///yH5BAEAAAAALAAAAAABAAEAAAIBRAA7',\n",
       " 'data:image/gif;base64,R0lGODlhAQABAIAAAAAAAP///yH5BAEAAAAALAAAAAABAAEAAAIBRAA7',\n",
       " 'data:image/gif;base64,R0lGODlhAQABAIAAAAAAAP///yH5BAEAAAAALAAAAAABAAEAAAIBRAA7',\n",
       " 'data:image/gif;base64,R0lGODlhAQABAIAAAAAAAP///yH5BAEAAAAALAAAAAABAAEAAAIBRAA7',\n",
       " 'data:image/gif;base64,R0lGODlhAQABAIAAAAAAAP///yH5BAEAAAAALAAAAAABAAEAAAIBRAA7',\n",
       " 'data:image/gif;base64,R0lGODlhAQABAIAAAAAAAP///yH5BAEAAAAALAAAAAABAAEAAAIBRAA7',\n",
       " 'data:image/gif;base64,R0lGODlhAQABAIAAAAAAAP///yH5BAEAAAAALAAAAAABAAEAAAIBRAA7',\n",
       " 'data:image/gif;base64,R0lGODlhAQABAIAAAAAAAP///yH5BAEAAAAALAAAAAABAAEAAAIBRAA7',\n",
       " 'data:image/gif;base64,R0lGODlhAQABAIAAAAAAAP///yH5BAEAAAAALAAAAAABAAEAAAIBRAA7',\n",
       " 'data:image/gif;base64,R0lGODlhAQABAIAAAAAAAP///yH5BAEAAAAALAAAAAABAAEAAAIBRAA7',\n",
       " 'data:image/gif;base64,R0lGODlhAQABAIAAAAAAAP///yH5BAEAAAAALAAAAAABAAEAAAIBRAA7',\n",
       " 'data:image/gif;base64,R0lGODlhAQABAIAAAAAAAP///yH5BAEAAAAALAAAAAABAAEAAAIBRAA7',\n",
       " 'data:image/gif;base64,R0lGODlhAQABAIAAAAAAAP///yH5BAEAAAAALAAAAAABAAEAAAIBRAA7',\n",
       " 'data:image/gif;base64,R0lGODlhAQABAIAAAAAAAP///yH5BAEAAAAALAAAAAABAAEAAAIBRAA7',\n",
       " 'data:image/gif;base64,R0lGODlhAQABAIAAAAAAAP///yH5BAEAAAAALAAAAAABAAEAAAIBRAA7',\n",
       " 'data:image/gif;base64,R0lGODlhAQABAIAAAAAAAP///yH5BAEAAAAALAAAAAABAAEAAAIBRAA7',\n",
       " 'data:image/gif;base64,R0lGODlhAQABAIAAAAAAAP///yH5BAEAAAAALAAAAAABAAEAAAIBRAA7',\n",
       " 'data:image/gif;base64,R0lGODlhAQABAIAAAAAAAP///yH5BAEAAAAALAAAAAABAAEAAAIBRAA7',\n",
       " 'data:image/gif;base64,R0lGODlhAQABAIAAAAAAAP///yH5BAEAAAAALAAAAAABAAEAAAIBRAA7']"
      ]
     },
     "execution_count": 12,
     "metadata": {},
     "output_type": "execute_result"
    }
   ],
   "source": [
    "imgSrc"
   ]
  },
  {
   "cell_type": "code",
   "execution_count": 15,
   "id": "5db1f603",
   "metadata": {},
   "outputs": [],
   "source": [
    "# 이미지 가져와서 저장\n",
    "for i in range(len(imgSrc)) :\n",
    "    urlretrieve(imgSrc[i], \"C:/Users/smhrd/Desktop/이미지/\"+str(i)+\".jpg\")\n",
    "    time.sleep(1)\n",
    "# 이미지가 덜 가져와지는 이유\n",
    "# 스크롤이 안되거나 이미지를 저장하기에 충분한 시간이 없어서"
   ]
  }
 ],
 "metadata": {
  "kernelspec": {
   "display_name": "Python 3 (ipykernel)",
   "language": "python",
   "name": "python3"
  },
  "language_info": {
   "codemirror_mode": {
    "name": "ipython",
    "version": 3
   },
   "file_extension": ".py",
   "mimetype": "text/x-python",
   "name": "python",
   "nbconvert_exporter": "python",
   "pygments_lexer": "ipython3",
   "version": "3.9.7"
  }
 },
 "nbformat": 4,
 "nbformat_minor": 5
}
